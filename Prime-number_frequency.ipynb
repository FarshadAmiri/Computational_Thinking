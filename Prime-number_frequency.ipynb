{
 "cells": [
  {
   "cell_type": "code",
   "execution_count": 40,
   "metadata": {},
   "outputs": [],
   "source": [
    "import math\n",
    "import random\n",
    "\n",
    "def get_prime_factors(n):\n",
    "    factors = dict()\n",
    "    \n",
    "    # Remove all the factors of 2\n",
    "    while n % 2 == 0:\n",
    "        factors[2] = (factors[2] + 1) if 2 in factors else 1\n",
    "        n = n // 2\n",
    "    \n",
    "    # Check for odd prime factors starting from 3\n",
    "    for i in range(3, int(math.sqrt(n)) + 1, 2):\n",
    "        while n % i == 0:\n",
    "            factors[i] = (factors[i] + 1) if i in factors else 1\n",
    "            n = n // i\n",
    "    \n",
    "    # If the remaining number is greater than 2, it's a prime factor\n",
    "    if n > 2:\n",
    "        factors[n] = 1\n",
    "    \n",
    "    return factors\n",
    "\n",
    "\n",
    "def get_random_number(n_digits):\n",
    "    n = ''\n",
    "    for i in range(n_digits):\n",
    "        n = n + str(random.randint(0,9))\n",
    "    return int(n)\n",
    "\n",
    "\n",
    "def get_next_prime_number(base_number):\n",
    "    counter = 0\n",
    "    for i in range(0, 400):\n",
    "        number = base_number + i\n",
    "        prime_factors = get_prime_factors(number)\n",
    "        if len(prime_factors) == 1:\n",
    "            return (number, counter)\n",
    "        counter += 1\n",
    "\n",
    "\n",
    "def get_previous_prime_number(base_number):\n",
    "    counter = 0\n",
    "    for i in range(0, 400):\n",
    "        number = base_number - i\n",
    "        prime_factors = get_prime_factors(number)\n",
    "        if len(prime_factors) == 1:\n",
    "            return (number, counter)\n",
    "        counter += 1"
   ]
  },
  {
   "cell_type": "code",
   "execution_count": 56,
   "metadata": {},
   "outputs": [
    {
     "name": "stdout",
     "output_type": "stream",
     "text": [
      "In average, for numbers with 12 digits, 23 steps needed to find next prime number.\n",
      "farthest number from a prime number with 12 is 444402713708 which requires 171 steps to find next prime number.\n"
     ]
    }
   ],
   "source": [
    "n_digits = 12\n",
    "n_iteration = 1000\n",
    "\n",
    "furthest_number = None\n",
    "max_steps_required = 0\n",
    "\n",
    "required_steps_list = []\n",
    "for idx in range(n_iteration):\n",
    "    number = get_random_number(n_digits)\n",
    "    steps_required = get_next_prime_number(number)[1]\n",
    "    if steps_required > max_steps_required:\n",
    "        furthest_number = number\n",
    "        max_steps_required = steps_required\n",
    "    required_steps_list.append(steps_required)\n",
    "\n",
    "furthest_number = get_previous_prime_number(furthest_number)[0] + 1\n",
    "max_steps_required = get_next_prime_number(furthest_number)[1]\n",
    "\n",
    "\n",
    "average_steps_required = int(sum(required_steps_list) / len(required_steps_list))\n",
    "\n",
    "print(f\"In average, for numbers with {n_digits} digits, {average_steps_required} steps needed to find next prime number.\") \n",
    "print(f\"farthest number from a prime number with {n_digits} is {furthest_number} which requires {max_steps_required} steps to find next prime number.\")"
   ]
  },
  {
   "cell_type": "code",
   "execution_count": 29,
   "metadata": {},
   "outputs": [
    {
     "name": "stdout",
     "output_type": "stream",
     "text": [
      "In average, for numbers with 7 digits, 12 steps needed to find next prime number.\n"
     ]
    }
   ],
   "source": [
    "n_digits = 7\n",
    "interval = 170\n",
    "\n",
    "required_steps_list = []\n",
    "for number in range(10**(n_digits-1), 10**(n_digits)-1, interval):\n",
    "    steps_needed = get_next_prime_number(number)[1]\n",
    "    required_steps_list.append(steps_needed)\n",
    "\n",
    "average_steps_required = int(sum(required_steps_list) / len(required_steps_list))\n",
    "\n",
    "print(f\"In average, for numbers with {n_digits} digits, {average_steps_required} steps needed to find next prime number.\")"
   ]
  },
  {
   "cell_type": "code",
   "execution_count": 59,
   "metadata": {},
   "outputs": [
    {
     "data": {
      "text/plain": [
       "(817582556137, 187)"
      ]
     },
     "execution_count": 59,
     "metadata": {},
     "output_type": "execute_result"
    }
   ],
   "source": [
    "# Next task: find a number with 12 digits that has no prime number in its next 180 numbers.(187)\n",
    "# top record: 817582555950 , 187\n",
    "\n",
    "get_next_prime_number(817582555950)\n",
    "# get_previous_prime_number(817582555950)"
   ]
  },
  {
   "cell_type": "code",
   "execution_count": 45,
   "metadata": {},
   "outputs": [],
   "source": [
    "# facts:\n",
    "# we have a 2 digits number of numbers with 2 digits -> we have a n digits number of numbers with n digits\n",
    "# how many percentage of numbers smaller than the greatest n digits number have n digits?\n",
    "# n = 1  ->  100%\n",
    "# n = 2  ->  90.90%\n",
    "# n = 3  ->  90.09%\n",
    "# n = 4  ->  90.01%"
   ]
  },
  {
   "cell_type": "code",
   "execution_count": 54,
   "metadata": {},
   "outputs": [],
   "source": [
    "def get_percentage_of_numbers_with_n_digits_smaller_than_greatest_n_digits_number(n):\n",
    "    p = (((10**n) - 1) - (10**(n-1)) + 1)/ ((10**n) - 1)\n",
    "    return p"
   ]
  },
  {
   "cell_type": "code",
   "execution_count": 55,
   "metadata": {},
   "outputs": [
    {
     "data": {
      "text/plain": [
       "{1: 1.0,\n",
       " 2: 0.9090909090909091,\n",
       " 3: 0.9009009009009009,\n",
       " 4: 0.9000900090009001,\n",
       " 5: 0.900009000090001,\n",
       " 6: 0.9000009000009,\n",
       " 7: 0.900000090000009,\n",
       " 8: 0.9000000090000001,\n",
       " 9: 0.9000000009,\n",
       " 10: 0.90000000009,\n",
       " 11: 0.900000000009,\n",
       " 12: 0.9000000000009,\n",
       " 13: 0.90000000000009,\n",
       " 14: 0.900000000000009}"
      ]
     },
     "execution_count": 55,
     "metadata": {},
     "output_type": "execute_result"
    }
   ],
   "source": [
    "d = dict()\n",
    "\n",
    "for n in range(1,15):\n",
    "    p = get_percentage_of_numbers_with_n_digits_smaller_than_greatest_n_digits_number(n)\n",
    "    d[n] = p\n",
    "\n",
    "d"
   ]
  },
  {
   "cell_type": "code",
   "execution_count": null,
   "metadata": {},
   "outputs": [],
   "source": []
  }
 ],
 "metadata": {
  "kernelspec": {
   "display_name": "Python 3 (ipykernel)",
   "language": "python",
   "name": "python3"
  },
  "language_info": {
   "codemirror_mode": {
    "name": "ipython",
    "version": 3
   },
   "file_extension": ".py",
   "mimetype": "text/x-python",
   "name": "python",
   "nbconvert_exporter": "python",
   "pygments_lexer": "ipython3",
   "version": "3.11.4"
  }
 },
 "nbformat": 4,
 "nbformat_minor": 2
}
