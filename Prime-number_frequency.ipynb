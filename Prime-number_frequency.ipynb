{
 "cells": [
  {
   "cell_type": "code",
   "execution_count": 80,
   "metadata": {},
   "outputs": [],
   "source": [
    "import math\n",
    "import random\n",
    "\n",
    "def get_prime_factors(n):\n",
    "    factors = dict()\n",
    "    \n",
    "    # Remove all the factors of 2\n",
    "    while n % 2 == 0:\n",
    "        factors[2] = (factors[2] + 1) if 2 in factors else 1\n",
    "        n = n // 2\n",
    "    \n",
    "    # Check for odd prime factors starting from 3\n",
    "    for i in range(3, int(math.sqrt(n)) + 1, 2):\n",
    "        while n % i == 0:\n",
    "            factors[i] = (factors[i] + 1) if i in factors else 1\n",
    "            n = n // i\n",
    "    \n",
    "    # If the remaining number is greater than 2, it's a prime factor\n",
    "    if n > 2:\n",
    "        factors[n] = 1\n",
    "    \n",
    "    return factors\n",
    "\n",
    "\n",
    "def get_random_number(n_digits):\n",
    "    n = ''\n",
    "    for i in range(n_digits):\n",
    "        n = n + str(random.randint(0,9))\n",
    "    return int(n)"
   ]
  },
  {
   "cell_type": "code",
   "execution_count": 107,
   "metadata": {},
   "outputs": [],
   "source": [
    "def get_next_prime_number(base_number):\n",
    "    counter = 0\n",
    "    for i in range(0, 1000):\n",
    "        number = base_number + i\n",
    "        prime_factors = get_prime_factors(number)\n",
    "        if len(prime_factors) == 1:\n",
    "            return (number, counter)\n",
    "        counter += 1"
   ]
  },
  {
   "cell_type": "code",
   "execution_count": 109,
   "metadata": {},
   "outputs": [
    {
     "name": "stdout",
     "output_type": "stream",
     "text": [
      "In average, for numbers with 12 digits, 16 steps needed to find next prime number.\n"
     ]
    },
    {
     "data": {
      "text/plain": [
       "[69, 2, 18, 5, 7, 2, 21, 16, 16, 3, 5, 6, 28, 11, 44, 17, 38, 10, 13, 0]"
      ]
     },
     "execution_count": 109,
     "metadata": {},
     "output_type": "execute_result"
    }
   ],
   "source": [
    "n_digits = 12\n",
    "n_iteration = 20\n",
    "\n",
    "required_steps_list = []\n",
    "for idx in range(n_iteration):\n",
    "    number = get_random_number(n_digits)\n",
    "    steps_needed = get_next_prime_number(number)[1]\n",
    "    required_steps_list.append(steps_needed)\n",
    "\n",
    "average_steps_required = int(sum(required_steps_list) / len(required_steps_list))\n",
    "\n",
    "print(f\"In average, for numbers with {n_digits} digits, {average_steps_required} steps needed to find next prime number.\")\n",
    "required_steps_list"
   ]
  }
 ],
 "metadata": {
  "kernelspec": {
   "display_name": "Python 3 (ipykernel)",
   "language": "python",
   "name": "python3"
  },
  "language_info": {
   "codemirror_mode": {
    "name": "ipython",
    "version": 3
   },
   "file_extension": ".py",
   "mimetype": "text/x-python",
   "name": "python",
   "nbconvert_exporter": "python",
   "pygments_lexer": "ipython3",
   "version": "3.11.4"
  }
 },
 "nbformat": 4,
 "nbformat_minor": 2
}
